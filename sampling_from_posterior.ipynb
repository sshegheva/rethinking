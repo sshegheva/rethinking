{
 "cells": [
  {
   "cell_type": "markdown",
   "metadata": {},
   "source": [
    "Grid Approximation"
   ]
  },
  {
   "cell_type": "markdown",
   "metadata": {},
   "source": [
    "https://www.youtube.com/watch?v=YPV8OhxVKLM"
   ]
  },
  {
   "cell_type": "code",
   "execution_count": 3,
   "metadata": {
    "collapsed": true
   },
   "outputs": [],
   "source": [
    "country.code <- 'us'  # use yours\n",
    "url.pattern <- 'https://'  # use http if you want\n",
    "repo.data.frame <- subset(getCRANmirrors(), CountryCode == country.code & grepl(url.pattern, URL))\n",
    "options(repos = repo.data.frame$URL)"
   ]
  },
  {
   "cell_type": "code",
   "execution_count": 4,
   "metadata": {
    "collapsed": false
   },
   "outputs": [
    {
     "name": "stderr",
     "output_type": "stream",
     "text": [
      "also installing the dependencies ‘memoise’, ‘whisker’, ‘rstudioapi’, ‘git2r’, ‘withr’\n",
      "\n",
      "Updating HTML index of packages in '.Library'\n",
      "Making 'packages.html' ... done\n"
     ]
    }
   ],
   "source": [
    "install.packages(c(\"coda\", \"mvtnorm\", \"devtools\"))"
   ]
  },
  {
   "cell_type": "code",
   "execution_count": 6,
   "metadata": {
    "collapsed": false
   },
   "outputs": [],
   "source": [
    "library(devtools)"
   ]
  },
  {
   "cell_type": "code",
   "execution_count": 26,
   "metadata": {
    "collapsed": false
   },
   "outputs": [
    {
     "name": "stderr",
     "output_type": "stream",
     "text": [
      "Updating HTML index of packages in '.Library'\n",
      "Making 'packages.html' ... done\n"
     ]
    }
   ],
   "source": [
    "install.packages(\"BiocInstaller\", repos=\"http://bioconductor.org/packages/2.13/bioc\")"
   ]
  },
  {
   "cell_type": "code",
   "execution_count": 27,
   "metadata": {
    "collapsed": false
   },
   "outputs": [
    {
     "name": "stderr",
     "output_type": "stream",
     "text": [
      "Downloading GitHub repo rmcelreath/rethinking@master\n",
      "from URL https://api.github.com/repos/rmcelreath/rethinking/zipball/master\n",
      "Installing rethinking\n",
      "Installing loo\n",
      "Installing matrixStats\n",
      "'/Users/maestro/anaconda/lib/R/bin/R' --no-site-file --no-environ --no-save  \\\n",
      "  --no-restore --quiet CMD INSTALL  \\\n",
      "  '/private/var/folders/z9/r9f6fqx111v77hrzftrq0v4w0000gn/T/RtmpwaT0nX/devtools4901d031f0/matrixStats'  \\\n",
      "  --library='/Users/maestro/anaconda/lib/R/library' --install-tests \n",
      "\n",
      "'/Users/maestro/anaconda/lib/R/bin/R' --no-site-file --no-environ --no-save  \\\n",
      "  --no-restore --quiet CMD INSTALL  \\\n",
      "  '/private/var/folders/z9/r9f6fqx111v77hrzftrq0v4w0000gn/T/RtmpwaT0nX/devtools49052a1cff6/loo'  \\\n",
      "  --library='/Users/maestro/anaconda/lib/R/library' --install-tests \n",
      "\n",
      "Installing rstan\n",
      "Installing gridExtra\n",
      "'/Users/maestro/anaconda/lib/R/bin/R' --no-site-file --no-environ --no-save  \\\n",
      "  --no-restore --quiet CMD INSTALL  \\\n",
      "  '/private/var/folders/z9/r9f6fqx111v77hrzftrq0v4w0000gn/T/RtmpwaT0nX/devtools4905b80157b/gridExtra'  \\\n",
      "  --library='/Users/maestro/anaconda/lib/R/library' --install-tests \n",
      "\n",
      "Installing inline\n",
      "'/Users/maestro/anaconda/lib/R/bin/R' --no-site-file --no-environ --no-save  \\\n",
      "  --no-restore --quiet CMD INSTALL  \\\n",
      "  '/private/var/folders/z9/r9f6fqx111v77hrzftrq0v4w0000gn/T/RtmpwaT0nX/devtools490202bb7/inline'  \\\n",
      "  --library='/Users/maestro/anaconda/lib/R/library' --install-tests \n",
      "\n",
      "Installing Rcpp\n",
      "'/Users/maestro/anaconda/lib/R/bin/R' --no-site-file --no-environ --no-save  \\\n",
      "  --no-restore --quiet CMD INSTALL  \\\n",
      "  '/private/var/folders/z9/r9f6fqx111v77hrzftrq0v4w0000gn/T/RtmpwaT0nX/devtools4905dded20f/Rcpp'  \\\n",
      "  --library='/Users/maestro/anaconda/lib/R/library' --install-tests \n",
      "\n",
      "Installing RcppEigen\n",
      "Installing Matrix\n",
      "Installing lattice\n",
      "'/Users/maestro/anaconda/lib/R/bin/R' --no-site-file --no-environ --no-save  \\\n",
      "  --no-restore --quiet CMD INSTALL  \\\n",
      "  '/private/var/folders/z9/r9f6fqx111v77hrzftrq0v4w0000gn/T/RtmpwaT0nX/devtools4905631435e/lattice'  \\\n",
      "  --library='/Users/maestro/anaconda/lib/R/library' --install-tests \n",
      "\n",
      "'/Users/maestro/anaconda/lib/R/bin/R' --no-site-file --no-environ --no-save  \\\n",
      "  --no-restore --quiet CMD INSTALL  \\\n",
      "  '/private/var/folders/z9/r9f6fqx111v77hrzftrq0v4w0000gn/T/RtmpwaT0nX/devtools49074448a82/Matrix'  \\\n",
      "  --library='/Users/maestro/anaconda/lib/R/library' --install-tests \n",
      "\n",
      "'/Users/maestro/anaconda/lib/R/bin/R' --no-site-file --no-environ --no-save  \\\n",
      "  --no-restore --quiet CMD INSTALL  \\\n",
      "  '/private/var/folders/z9/r9f6fqx111v77hrzftrq0v4w0000gn/T/RtmpwaT0nX/devtools49023621b3f/RcppEigen'  \\\n",
      "  --library='/Users/maestro/anaconda/lib/R/library' --install-tests \n",
      "\n",
      "Installing StanHeaders\n",
      "'/Users/maestro/anaconda/lib/R/bin/R' --no-site-file --no-environ --no-save  \\\n",
      "  --no-restore --quiet CMD INSTALL  \\\n",
      "  '/private/var/folders/z9/r9f6fqx111v77hrzftrq0v4w0000gn/T/RtmpwaT0nX/devtools49073e0a163/StanHeaders'  \\\n",
      "  --library='/Users/maestro/anaconda/lib/R/library' --install-tests \n",
      "\n",
      "'/Users/maestro/anaconda/lib/R/bin/R' --no-site-file --no-environ --no-save  \\\n",
      "  --no-restore --quiet CMD INSTALL  \\\n",
      "  '/private/var/folders/z9/r9f6fqx111v77hrzftrq0v4w0000gn/T/RtmpwaT0nX/devtools49073f92b5c/rstan'  \\\n",
      "  --library='/Users/maestro/anaconda/lib/R/library' --install-tests \n",
      "\n",
      "'/Users/maestro/anaconda/lib/R/bin/R' --no-site-file --no-environ --no-save  \\\n",
      "  --no-restore --quiet CMD INSTALL  \\\n",
      "  '/private/var/folders/z9/r9f6fqx111v77hrzftrq0v4w0000gn/T/RtmpwaT0nX/devtools490bd9a53b/rmcelreath-rethinking-a309712'  \\\n",
      "  --library='/Users/maestro/anaconda/lib/R/library' --install-tests \n",
      "\n"
     ]
    }
   ],
   "source": [
    "devtools::install_github(\"rmcelreath/rethinking\")"
   ]
  },
  {
   "cell_type": "code",
   "execution_count": 28,
   "metadata": {
    "collapsed": false
   },
   "outputs": [
    {
     "name": "stderr",
     "output_type": "stream",
     "text": [
      "Loading required package: rstan\n",
      "Loading required package: ggplot2\n",
      "Loading required package: StanHeaders\n",
      "rstan (Version 2.12.1, packaged: 2016-09-11 13:07:50 UTC, GitRev: 85f7a56811da)\n",
      "For execution on a local, multicore CPU with excess RAM we recommend calling\n",
      "rstan_options(auto_write = TRUE)\n",
      "options(mc.cores = parallel::detectCores())\n",
      "Loading required package: parallel\n",
      "rethinking (Version 1.59)\n"
     ]
    }
   ],
   "source": [
    "library(rethinking)"
   ]
  },
  {
   "cell_type": "code",
   "execution_count": null,
   "metadata": {
    "collapsed": true
   },
   "outputs": [],
   "source": [
    "p_grid <- seq(from=0, to=1, length.out = 1000)"
   ]
  },
  {
   "cell_type": "code",
   "execution_count": null,
   "metadata": {
    "collapsed": true
   },
   "outputs": [],
   "source": [
    "prior <- rep(1,1000)"
   ]
  },
  {
   "cell_type": "code",
   "execution_count": null,
   "metadata": {
    "collapsed": true
   },
   "outputs": [],
   "source": [
    "likelihood <- dbinom(6, size=9, prob=p_grid)"
   ]
  },
  {
   "cell_type": "code",
   "execution_count": null,
   "metadata": {
    "collapsed": true
   },
   "outputs": [],
   "source": [
    "posterior <- likelihood * prior"
   ]
  },
  {
   "cell_type": "code",
   "execution_count": null,
   "metadata": {
    "collapsed": true
   },
   "outputs": [],
   "source": [
    "posterior <- posterior / sum(posterior)"
   ]
  },
  {
   "cell_type": "code",
   "execution_count": null,
   "metadata": {
    "collapsed": true
   },
   "outputs": [],
   "source": [
    "samples <- sample(p_grid, prob=posterior, size=1e4, replace=TRUE)"
   ]
  },
  {
   "cell_type": "code",
   "execution_count": null,
   "metadata": {
    "collapsed": false
   },
   "outputs": [],
   "source": [
    "plot(samples)"
   ]
  },
  {
   "cell_type": "code",
   "execution_count": null,
   "metadata": {
    "collapsed": false
   },
   "outputs": [],
   "source": [
    "library(ggplot2)"
   ]
  },
  {
   "cell_type": "code",
   "execution_count": null,
   "metadata": {
    "collapsed": false
   },
   "outputs": [],
   "source": [
    "qplot(seq_along(samples), samples)"
   ]
  },
  {
   "cell_type": "code",
   "execution_count": null,
   "metadata": {
    "collapsed": true
   },
   "outputs": [],
   "source": [
    "x <- seq_along(samples)\n",
    "data <- data.frame(x,samples)"
   ]
  },
  {
   "cell_type": "code",
   "execution_count": null,
   "metadata": {
    "collapsed": false
   },
   "outputs": [],
   "source": [
    "head(data)"
   ]
  },
  {
   "cell_type": "code",
   "execution_count": null,
   "metadata": {
    "collapsed": false
   },
   "outputs": [],
   "source": [
    "ggplot(data, aes(samples)) + geom_histogram(binwidth = 0.01, aes(y=..density..)) "
   ]
  },
  {
   "cell_type": "code",
   "execution_count": null,
   "metadata": {
    "collapsed": false
   },
   "outputs": [],
   "source": [
    "sum(samples < 0.5) / 1e4"
   ]
  },
  {
   "cell_type": "code",
   "execution_count": null,
   "metadata": {
    "collapsed": false
   },
   "outputs": [],
   "source": [
    "sum(samples > 0.5 & samples < 0.75) / 1e4"
   ]
  },
  {
   "cell_type": "code",
   "execution_count": null,
   "metadata": {
    "collapsed": false
   },
   "outputs": [],
   "source": [
    "quantile(samples, 0.8)"
   ]
  },
  {
   "cell_type": "code",
   "execution_count": null,
   "metadata": {
    "collapsed": false
   },
   "outputs": [],
   "source": [
    "p_grid <- seq(from=0, to=1, length.out = 1000)\n",
    "prior <- rep(1, 1000)\n",
    "likelihood <-dbinom(3, 3, prob=p_grid)\n",
    "posterior <- prior * likelihood\n",
    "posterior <- posterior / sum(posterior)\n",
    "samples <- sample(p_grid, size=1e4, replace=TRUE, prob=posterior)"
   ]
  },
  {
   "cell_type": "code",
   "execution_count": null,
   "metadata": {
    "collapsed": false
   },
   "outputs": [],
   "source": [
    "help(quantile)"
   ]
  },
  {
   "cell_type": "markdown",
   "metadata": {},
   "source": [
    "Producing central 50% probability"
   ]
  },
  {
   "cell_type": "code",
   "execution_count": null,
   "metadata": {
    "collapsed": false
   },
   "outputs": [],
   "source": [
    "quantile(samples, c(0.25, 0.75))"
   ]
  },
  {
   "cell_type": "code",
   "execution_count": null,
   "metadata": {
    "collapsed": false
   },
   "outputs": [],
   "source": [
    "install.packages('coda')"
   ]
  },
  {
   "cell_type": "code",
   "execution_count": null,
   "metadata": {
    "collapsed": false
   },
   "outputs": [],
   "source": [
    "library(coda)"
   ]
  },
  {
   "cell_type": "code",
   "execution_count": null,
   "metadata": {
    "collapsed": false
   },
   "outputs": [],
   "source": [
    "help(as.mcmc)"
   ]
  },
  {
   "cell_type": "code",
   "execution_count": null,
   "metadata": {
    "collapsed": false
   },
   "outputs": [],
   "source": [
    "HPDinterval(as.mcmc(samples), prob=0.5)"
   ]
  },
  {
   "cell_type": "code",
   "execution_count": null,
   "metadata": {
    "collapsed": false
   },
   "outputs": [],
   "source": [
    "help(HPDinterval)"
   ]
  },
  {
   "cell_type": "code",
   "execution_count": null,
   "metadata": {
    "collapsed": false
   },
   "outputs": [],
   "source": [
    "p_grid[which.max(posterior)]"
   ]
  },
  {
   "cell_type": "code",
   "execution_count": null,
   "metadata": {
    "collapsed": false
   },
   "outputs": [],
   "source": [
    "which.max(posterior)"
   ]
  },
  {
   "cell_type": "code",
   "execution_count": null,
   "metadata": {
    "collapsed": false
   },
   "outputs": [],
   "source": [
    "mean(samples)"
   ]
  },
  {
   "cell_type": "code",
   "execution_count": null,
   "metadata": {
    "collapsed": false
   },
   "outputs": [],
   "source": [
    "median(samples)"
   ]
  },
  {
   "cell_type": "code",
   "execution_count": 29,
   "metadata": {
    "collapsed": true
   },
   "outputs": [],
   "source": [
    "data(Howell1)\n",
    "d<-Howell1"
   ]
  },
  {
   "cell_type": "code",
   "execution_count": 30,
   "metadata": {
    "collapsed": false
   },
   "outputs": [
    {
     "name": "stdout",
     "output_type": "stream",
     "text": [
      "'data.frame':\t544 obs. of  4 variables:\n",
      " $ height: num  152 140 137 157 145 ...\n",
      " $ weight: num  47.8 36.5 31.9 53 41.3 ...\n",
      " $ age   : num  63 63 65 41 51 35 32 27 19 54 ...\n",
      " $ male  : int  1 0 0 1 0 1 0 1 0 1 ...\n"
     ]
    }
   ],
   "source": [
    "str(d)"
   ]
  },
  {
   "cell_type": "code",
   "execution_count": 31,
   "metadata": {
    "collapsed": true
   },
   "outputs": [],
   "source": [
    "d2 <- d[ d$age >=18, ]"
   ]
  },
  {
   "cell_type": "code",
   "execution_count": 32,
   "metadata": {
    "collapsed": false
   },
   "outputs": [],
   "source": [
    "mu.list <-seq( from=140, to=160, length.out=200)\n",
    "sigma.list <- seq(from=4, to=9, length.out=200)"
   ]
  },
  {
   "cell_type": "code",
   "execution_count": 33,
   "metadata": {
    "collapsed": false
   },
   "outputs": [],
   "source": [
    "post <- expand.grid(mu=mu.list, sigma=sigma.list)"
   ]
  },
  {
   "cell_type": "code",
   "execution_count": 34,
   "metadata": {
    "collapsed": false
   },
   "outputs": [],
   "source": [
    "post$LL <- sapply(1:nrow(post), function(i) sum(dnorm(\n",
    "                                                d2$height,\n",
    "                                                mean=post$mu[i],\n",
    "                                                sd=post$sigma[i],\n",
    "                                                log=TRUE)))"
   ]
  },
  {
   "cell_type": "code",
   "execution_count": 35,
   "metadata": {
    "collapsed": false
   },
   "outputs": [],
   "source": [
    "post$prod <- post$LL + dnorm(post$mu, 178, 20, TRUE) + dunif(post$sigma, 0, 50, TRUE)"
   ]
  },
  {
   "cell_type": "code",
   "execution_count": 36,
   "metadata": {
    "collapsed": false
   },
   "outputs": [],
   "source": [
    "post$prob <- exp(post$prod - max(post$prod))"
   ]
  },
  {
   "cell_type": "code",
   "execution_count": 37,
   "metadata": {
    "collapsed": false
   },
   "outputs": [
    {
     "data": {
      "image/png": "[encoded data removed]",
      "text/plain": [
       "plot without title"
      ]
     },
     "metadata": {
      "image/svg+xml": {
       "isolated": true
      }
     },
     "output_type": "display_data"
    }
   ],
   "source": [
    "contour_xyz(post$mu, post$sigma, post$prob)"
   ]
  },
  {
   "cell_type": "code",
   "execution_count": 38,
   "metadata": {
    "collapsed": false
   },
   "outputs": [
    {
     "data": {
      "image/png": "[encoded data removed]",
      "text/plain": [
       "plot without title"
      ]
     },
     "metadata": {
      "image/svg+xml": {
       "isolated": true
      }
     },
     "output_type": "display_data"
    }
   ],
   "source": [
    "image_xyz(post$mu, post$sigma, post$prob)"
   ]
  },
  {
   "cell_type": "code",
   "execution_count": null,
   "metadata": {
    "collapsed": true
   },
   "outputs": [],
   "source": []
  }
 ],
 "metadata": {
  "anaconda-cloud": {},
  "kernelspec": {
   "display_name": "R",
   "language": "R",
   "name": "ir"
  },
  "language_info": {
   "codemirror_mode": "r",
   "file_extension": ".r",
   "mimetype": "text/x-r-source",
   "name": "R",
   "pygments_lexer": "r",
   "version": "3.3.1"
  }
 },
 "nbformat": 4,
 "nbformat_minor": 0
}
